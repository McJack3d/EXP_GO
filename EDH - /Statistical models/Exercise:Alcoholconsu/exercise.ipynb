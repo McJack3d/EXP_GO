{
 "cells": [
  {
   "cell_type": "code",
   "execution_count": 7,
   "id": "dc8acf2e",
   "metadata": {},
   "outputs": [],
   "source": [
    "import pandas as pd\n",
    "import numpy as np\n",
    "import matplotlib.pyplot as plt\n",
    "from scipy import stats\n",
    "import statsmodels.api as sm"
   ]
  },
  {
   "cell_type": "code",
   "execution_count": 2,
   "id": "0928d4bd",
   "metadata": {},
   "outputs": [],
   "source": [
    "df = pd.read_excel(\"/Users/alexandrebredillot/Documents/GitHub/EXP_GO/EDH - /Statistical models/Exercise:Alcoholconsu/Sleep_AU.xlsx\")"
   ]
  },
  {
   "cell_type": "code",
   "execution_count": 5,
   "id": "2938bd02",
   "metadata": {},
   "outputs": [
    {
     "data": {
      "image/png": "[encoded data removed]",
      "text/plain": [
       "<Figure size 640x480 with 1 Axes>"
      ]
     },
     "metadata": {},
     "output_type": "display_data"
    }
   ],
   "source": [
    "plt.scatter(df[\"SleepRecovery\"], df[\"AU\"])\n",
    "plt.show()"
   ]
  },
  {
   "cell_type": "markdown",
   "id": "6465afc6",
   "metadata": {},
   "source": [
    "the two variables seem negatively correlated"
   ]
  },
  {
   "cell_type": "code",
   "execution_count": 11,
   "id": "00335f75",
   "metadata": {},
   "outputs": [
    {
     "name": "stdout",
     "output_type": "stream",
     "text": [
      "                            OLS Regression Results                            \n",
      "==============================================================================\n",
      "Dep. Variable:          SleepRecovery   R-squared:                       0.329\n",
      "Model:                            OLS   Adj. R-squared:                  0.320\n",
      "Method:                 Least Squares   F-statistic:                     36.75\n",
      "Date:                Thu, 16 Oct 2025   Prob (F-statistic):           5.00e-08\n",
      "Time:                        16:49:31   Log-Likelihood:                -302.46\n",
      "No. Observations:                  77   AIC:                             608.9\n",
      "Df Residuals:                      75   BIC:                             613.6\n",
      "Df Model:                           1                                         \n",
      "Covariance Type:            nonrobust                                         \n",
      "==============================================================================\n",
      "                 coef    std err          t      P>|t|      [0.025      0.975]\n",
      "------------------------------------------------------------------------------\n",
      "const         70.6226      3.515     20.092      0.000      63.621      77.625\n",
      "AU            -4.0950      0.676     -6.062      0.000      -5.441      -2.749\n",
      "==============================================================================\n",
      "Omnibus:                        0.958   Durbin-Watson:                   1.959\n",
      "Prob(Omnibus):                  0.619   Jarque-Bera (JB):                0.451\n",
      "Skew:                           0.127   Prob(JB):                        0.798\n",
      "Kurtosis:                       3.275   Cond. No.                         13.3\n",
      "==============================================================================\n",
      "\n",
      "Notes:\n",
      "[1] Standard Errors assume that the covariance matrix of the errors is correctly specified.\n"
     ]
    }
   ],
   "source": [
    "X1 = sm.add_constant(df['AU'])\n",
    "Y1 = df['SleepRecovery']\n",
    "M1 = sm.OLS(Y1, X1).fit()\n",
    "print(M1.summary())"
   ]
  },
  {
   "cell_type": "code",
   "execution_count": null,
   "id": "71807463",
   "metadata": {},
   "outputs": [],
   "source": [
    "mean_X = df[\"SleepRecovery\"].mean()\n",
    "mean_Y = df[\"AU\"].mean()\n",
    "\n",
    "X_dev = df[\"SleepRecovery\"] - mean_X\n",
    "Y_dev = df[\"AU\"] - mean_Y\n",
    "\n"
   ]
  }
 ],
 "metadata": {
  "kernelspec": {
   "display_name": "Python 3",
   "language": "python",
   "name": "python3"
  },
  "language_info": {
   "codemirror_mode": {
    "name": "ipython",
    "version": 3
   },
   "file_extension": ".py",
   "mimetype": "text/x-python",
   "name": "python",
   "nbconvert_exporter": "python",
   "pygments_lexer": "ipython3",
   "version": "3.11.8"
  }
 },
 "nbformat": 4,
 "nbformat_minor": 5
}
