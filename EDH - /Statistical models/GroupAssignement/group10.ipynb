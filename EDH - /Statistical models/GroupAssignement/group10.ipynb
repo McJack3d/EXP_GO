{
 "cells": [
  {
   "cell_type": "code",
   "execution_count": null,
   "id": "f55fb5c5",
   "metadata": {},
   "outputs": [],
   "source": [
    "import numpy as np"
   ]
  }
 ],
 "metadata": {
  "language_info": {
   "name": "python"
  }
 },
 "nbformat": 4,
 "nbformat_minor": 5
}
