{
 "cells": [
  {
   "cell_type": "markdown",
   "id": "92710dcb",
   "metadata": {},
   "source": [
    "# Homework 2: Beauty and the Labor Market\n",
    "## Statistical Models\n",
    "## Group 16\n",
    "\n",
    "#### Group Members:<br>\n",
    "Alexandre Bredillot<br>\n",
    "Moritz Lumma<br>\n",
    "Cristina Gricianii<br>\n",
    "Tanushree Sharma<br>\n",
    "Francesco Cimarra"
   ]
  },
  {
   "cell_type": "code",
   "execution_count": null,
   "id": "76eb0e5a-fe91-4c13-9001-0a4d172de507",
   "metadata": {},
   "outputs": [
    {
     "data": {
      "text/html": [
       "<div>\n",
       "<style scoped>\n",
       "    .dataframe tbody tr th:only-of-type {\n",
       "        vertical-align: middle;\n",
       "    }\n",
       "\n",
       "    .dataframe tbody tr th {\n",
       "        vertical-align: top;\n",
       "    }\n",
       "\n",
       "    .dataframe thead th {\n",
       "        text-align: right;\n",
       "    }\n",
       "</style>\n",
       "<table border=\"1\" class=\"dataframe\">\n",
       "  <thead>\n",
       "    <tr style=\"text-align: right;\">\n",
       "      <th></th>\n",
       "      <th>wage</th>\n",
       "      <th>lwage</th>\n",
       "      <th>exper</th>\n",
       "      <th>looks</th>\n",
       "      <th>union</th>\n",
       "      <th>goodhlth</th>\n",
       "      <th>black</th>\n",
       "      <th>female</th>\n",
       "      <th>married</th>\n",
       "      <th>south</th>\n",
       "      <th>bigcity</th>\n",
       "      <th>smllcity</th>\n",
       "      <th>service</th>\n",
       "      <th>educ</th>\n",
       "    </tr>\n",
       "  </thead>\n",
       "  <tbody>\n",
       "    <tr>\n",
       "      <th>0</th>\n",
       "      <td>5.73</td>\n",
       "      <td>1.745715</td>\n",
       "      <td>30</td>\n",
       "      <td>4</td>\n",
       "      <td>0</td>\n",
       "      <td>1</td>\n",
       "      <td>0</td>\n",
       "      <td>1</td>\n",
       "      <td>1</td>\n",
       "      <td>0</td>\n",
       "      <td>0</td>\n",
       "      <td>1</td>\n",
       "      <td>1</td>\n",
       "      <td>14</td>\n",
       "    </tr>\n",
       "    <tr>\n",
       "      <th>1</th>\n",
       "      <td>4.28</td>\n",
       "      <td>1.453953</td>\n",
       "      <td>28</td>\n",
       "      <td>3</td>\n",
       "      <td>0</td>\n",
       "      <td>1</td>\n",
       "      <td>0</td>\n",
       "      <td>1</td>\n",
       "      <td>1</td>\n",
       "      <td>1</td>\n",
       "      <td>0</td>\n",
       "      <td>1</td>\n",
       "      <td>0</td>\n",
       "      <td>12</td>\n",
       "    </tr>\n",
       "    <tr>\n",
       "      <th>2</th>\n",
       "      <td>7.96</td>\n",
       "      <td>2.074429</td>\n",
       "      <td>35</td>\n",
       "      <td>4</td>\n",
       "      <td>0</td>\n",
       "      <td>1</td>\n",
       "      <td>0</td>\n",
       "      <td>1</td>\n",
       "      <td>0</td>\n",
       "      <td>0</td>\n",
       "      <td>0</td>\n",
       "      <td>1</td>\n",
       "      <td>0</td>\n",
       "      <td>10</td>\n",
       "    </tr>\n",
       "    <tr>\n",
       "      <th>3</th>\n",
       "      <td>11.57</td>\n",
       "      <td>2.448416</td>\n",
       "      <td>38</td>\n",
       "      <td>3</td>\n",
       "      <td>0</td>\n",
       "      <td>1</td>\n",
       "      <td>0</td>\n",
       "      <td>0</td>\n",
       "      <td>1</td>\n",
       "      <td>0</td>\n",
       "      <td>1</td>\n",
       "      <td>0</td>\n",
       "      <td>1</td>\n",
       "      <td>16</td>\n",
       "    </tr>\n",
       "    <tr>\n",
       "      <th>4</th>\n",
       "      <td>11.42</td>\n",
       "      <td>2.435366</td>\n",
       "      <td>27</td>\n",
       "      <td>3</td>\n",
       "      <td>0</td>\n",
       "      <td>1</td>\n",
       "      <td>0</td>\n",
       "      <td>0</td>\n",
       "      <td>1</td>\n",
       "      <td>0</td>\n",
       "      <td>0</td>\n",
       "      <td>1</td>\n",
       "      <td>0</td>\n",
       "      <td>16</td>\n",
       "    </tr>\n",
       "  </tbody>\n",
       "</table>\n",
       "</div>"
      ],
      "text/plain": [
       "    wage     lwage  exper  looks  union  goodhlth  black  female  married  \\\n",
       "0   5.73  1.745715     30      4      0         1      0       1        1   \n",
       "1   4.28  1.453953     28      3      0         1      0       1        1   \n",
       "2   7.96  2.074429     35      4      0         1      0       1        0   \n",
       "3  11.57  2.448416     38      3      0         1      0       0        1   \n",
       "4  11.42  2.435366     27      3      0         1      0       0        1   \n",
       "\n",
       "   south  bigcity  smllcity  service  educ  \n",
       "0      0        0         1        1    14  \n",
       "1      1        0         1        0    12  \n",
       "2      0        0         1        0    10  \n",
       "3      0        1         0        1    16  \n",
       "4      0        0         1        0    16  "
      ]
     },
     "execution_count": 23,
     "metadata": {},
     "output_type": "execute_result"
    }
   ],
   "source": [
    "# Importing libraries and reading the excel file\n",
    "import pandas as pd\n",
    "import numpy as np\n",
    "import matplotlib.pyplot as plt\n",
    "import statsmodels.formula.api as smf\n",
    "from scipy import stats\n",
    "from scipy.stats import skew, kurtosis\n",
    "\n",
    "df = pd.read_excel(\"beauty.xlsx\")\n",
    "df.head()"
   ]
  },
  {
   "cell_type": "markdown",
   "id": "a9e93ef0",
   "metadata": {},
   "source": [
    "## Question 1: Data Exploration\n",
    "\n",
    "### Question 1.1"
   ]
  },
  {
   "cell_type": "code",
   "execution_count": 24,
   "id": "c791c537-4891-41b5-91d9-383f0c29c307",
   "metadata": {},
   "outputs": [
    {
     "name": "stdout",
     "output_type": "stream",
     "text": [
      "Descriptive Statistics:\n",
      "              wage        lwage         educ        exper        looks\n",
      "count  1260.000000  1260.000000  1260.000000  1260.000000  1260.000000\n",
      "mean      6.306690     1.658800    12.563492    18.206349     3.185714\n",
      "std       4.660639     0.594508     2.624489    11.963485     0.684877\n",
      "min       1.020000     0.019803     5.000000     0.000000     1.000000\n",
      "25%       3.707500     1.310357    12.000000     8.000000     3.000000\n",
      "50%       5.300000     1.667705    12.000000    15.000000     3.000000\n",
      "75%       7.695000     2.040570    13.000000    27.000000     4.000000\n",
      "max      77.720000     4.353113    17.000000    48.000000     5.000000\n",
      "wage= Skewness: 4.8192044939496546, Kurtosis: 51.22120116313635\n",
      "lwage= Skewness: 0.08333412347927915, Kurtosis: 0.4314718014935921\n"
     ]
    }
   ],
   "source": [
    "vars = [\"wage\", \"lwage\", \"educ\", \"exper\", \"looks\"]\n",
    "df[vars].describe()\n",
    "print(\"Descriptive Statistics:\")\n",
    "print(df[vars].describe())\n",
    "for col in [\"wage\", \"lwage\"]:\n",
    "    print(f\"{col}= Skewness: {df[col].skew()}, Kurtosis: {df[col].kurt()}\")"
   ]
  },
  {
   "cell_type": "markdown",
   "id": "8eb1a3db",
   "metadata": {},
   "source": [
    "### Question 1.2"
   ]
  },
  {
   "cell_type": "code",
   "execution_count": 25,
   "id": "0df6fc6d-8d43-4cfe-84b9-accb5434f63d",
   "metadata": {},
   "outputs": [
    {
     "data": {
      "image/png": "[encoded data removed]",
      "text/plain": [
       "<Figure size 1000x500 with 2 Axes>"
      ]
     },
     "metadata": {},
     "output_type": "display_data"
    }
   ],
   "source": [
    "#Histograms\n",
    "plt.figure(figsize=(10,5))\n",
    "\n",
    "plt.subplot(1, 2, 1)\n",
    "plt.hist(df[\"wage\"].dropna(), bins=20, color='orange')\n",
    "plt.title(\"Histogram of Wage\")\n",
    "plt.xlabel(\"Wage\")\n",
    "plt.ylabel(\"Frequency\")\n",
    "\n",
    "plt.subplot(1, 2, 2)\n",
    "plt.hist(df[\"lwage\"].dropna(), bins=20, color='skyblue')\n",
    "plt.title(\"Histogram of Lwage\")\n",
    "plt.xlabel(\"Log Wage\")\n",
    "plt.ylabel(\"Frequency\")\n",
    "\n",
    "plt.show()"
   ]
  },
  {
   "cell_type": "markdown",
   "id": "7d9591b6",
   "metadata": {},
   "source": [
    "Skewness and Kurtosis are used to describe the spread and height of a normal distribution.\n",
    "\n",
    "The wage histogram is highly right-skewed (skewness approx 4.82) and has extremely high kurtosis (approx 51.22). It creates a right tail, meaning most people earn relatively low wages, with a few people earning high wages. The wage histogram is very asymmetric and has outliers.\n",
    "\n",
    "The lwage histogram looks more balanced and bell-shaped. It spreads out the lower values, reducing skewness, which makes it more symmetric and also makes the distribution more normal. The skewness is 0.08, which is almost zero; that said, skewness tell us that the distribution is nearly symmetric. On the other hand, kurtosis is 0.43, which is also close to zero, meaning the tails are not too heavy.\n",
    "\n",
    "In linear regressions, the dependent variable (in this case Frequency) should be approximately normally distributed and homoskedastic. From the histograms above, we can easily see that the logarithm of wage fixes the problem that the variable Wage presents: it is heavily skewed and it has extreme outliers. Therefore, the Lwage is more suitable as the dependent variable in linear regression analysis because it makes the distribution more symmetric and normal, i.e, the relationship between variables is closer to linear. Therefore, it gives more reliable and interpretable results. Furthermore, the regression residuals (errors) will also behave better."
   ]
  },
  {
   "cell_type": "markdown",
   "id": "aa3b9f30",
   "metadata": {},
   "source": [
    "## Question 2: Simple Linear Regression"
   ]
  },
  {
   "cell_type": "code",
   "execution_count": 26,
   "id": "8a11947a-5c51-4f94-bed7-498d547e75e9",
   "metadata": {},
   "outputs": [
    {
     "name": "stdout",
     "output_type": "stream",
     "text": [
      "                            OLS Regression Results                            \n",
      "==============================================================================\n",
      "Dep. Variable:                  lwage   R-squared:                       0.003\n",
      "Model:                            OLS   Adj. R-squared:                  0.003\n",
      "Method:                 Least Squares   F-statistic:                     4.349\n",
      "Date:                Sat, 25 Oct 2025   Prob (F-statistic):             0.0372\n",
      "Time:                        12:48:06   Log-Likelihood:                -1130.0\n",
      "No. Observations:                1260   AIC:                             2264.\n",
      "Df Residuals:                    1258   BIC:                             2274.\n",
      "Df Model:                           1                                         \n",
      "Covariance Type:            nonrobust                                         \n",
      "==============================================================================\n",
      "                 coef    std err          t      P>|t|      [0.025      0.975]\n",
      "------------------------------------------------------------------------------\n",
      "Intercept      1.4965      0.080     18.798      0.000       1.340       1.653\n",
      "looks          0.0510      0.024      2.085      0.037       0.003       0.099\n",
      "==============================================================================\n",
      "Omnibus:                        8.047   Durbin-Watson:                   1.468\n",
      "Prob(Omnibus):                  0.018   Jarque-Bera (JB):                9.940\n",
      "Skew:                           0.083   Prob(JB):                      0.00694\n",
      "Kurtosis:                       3.402   Cond. No.                         16.9\n",
      "==============================================================================\n",
      "\n",
      "Notes:\n",
      "[1] Standard Errors assume that the covariance matrix of the errors is correctly specified.\n"
     ]
    }
   ],
   "source": [
    "simple_model = smf.ols(\"lwage ~ looks\", data=df).fit()\n",
    "print(simple_model.summary())\n",
    "\n",
    "b_looks_simple = simple_model.params[\"looks\"]\n",
    "sterr_looks_simple = simple_model.bse[\"looks\"]\n",
    "t_looks_simple = simple_model.tvalues[\"looks\"]\n",
    "p_looks_simple = simple_model.pvalues[\"looks\"]"
   ]
  },
  {
   "cell_type": "markdown",
   "id": "07acedd1",
   "metadata": {},
   "source": [
    "### Question 2.1\n",
    "\n",
    "The estimated coefficients are: \n",
    "$$\n",
    "\\hat{\\beta}_1 = 0.0510 \\quad \\hat{\\beta}_0 = 1.4965\n",
    "$$\n",
    "\n",
    "The standard error SE is:\n",
    "$$\n",
    "\\text{SE}(\\hat{\\beta}_1) = 0.024\n",
    "$$\n",
    "\n",
    "The coefficient of determination is: R-squared = 0.003"
   ]
  },
  {
   "cell_type": "markdown",
   "id": "136a4abd-dc58-4415-8875-580b8e81e3ec",
   "metadata": {},
   "source": [
    "### Question 2.2\n",
    "It implies that, on average, a one-unit increase in attractiveness is associated with about a 5.1% higher wage, suggesting a small but statistically significant positive relationship between attractiveness and wages."
   ]
  },
  {
   "cell_type": "markdown",
   "id": "7512b3db-29f5-47ec-bed1-2e3fe0217b77",
   "metadata": {},
   "source": [
    "### Question 2.3\n",
    "\n",
    "#### Hypothesis Test for the Effect of Physical Attractiveness on Wages\n",
    "\n",
    "\n",
    "#### Step 1: State the Hypotheses\n",
    "\n",
    "$$\n",
    "H_0: \\beta_1 = 0 \\quad \\text{(physical attractiveness has no effect on wages)}\n",
    "$$\n",
    "$$\n",
    "H_a: \\beta_1 \\neq 0 \\quad \\text{(physical attractiveness affects wages)}\n",
    "$$\n",
    "\n",
    "#### Step 2: Test Statistic\n",
    "\n",
    "From the regression output:\n",
    "\n",
    "$$\n",
    "\\hat{\\beta}_1 = 0.0510, \\quad \\text{SE}(\\hat{\\beta}_1) = 0.024, \\quad t = 2.085, \\quad p = 0.037\n",
    "$$\n",
    "\n",
    "#### Step 3: Decision Rule\n",
    "\n",
    "At a significance level of $ \\alpha = 0.05 $:\n",
    "\n",
    "$$\n",
    "p = 0.037 < 0.05 \\implies \\text{Reject } H_0\n",
    "$$\n",
    "\n",
    "#### Step 4: Conclusion\n",
    "\n",
    "There is statistically significant evidence at the 5% level that physical attractiveness ${looks}$ has an effect on wages.\n",
    "\n",
    "$$\n",
    "\\boxed{p = 0.037 < 0.05 \\Rightarrow \\text{Reject } H_0. \\text{ Physical attractiveness significantly affects wages.}}\n",
    "$$"
   ]
  },
  {
   "cell_type": "markdown",
   "id": "21d313a1",
   "metadata": {},
   "source": [
    "## Question 3: Multiple Linear Regression \n",
    "\n",
    "### Question 3.1\n",
    "#### Regression Results for Multiple Linear Regression Model \n",
    "\n",
    "$$\n",
    "lwage=β_0​+β_1​looks+β_2​educ+β_3​exper+β_4​female+β_5​union+β_6​married+β_7​goodhlth+β_8​black+β_9​service+ε"
   ]
  },
  {
   "cell_type": "code",
   "execution_count": 27,
   "id": "8ff841b3",
   "metadata": {},
   "outputs": [
    {
     "name": "stdout",
     "output_type": "stream",
     "text": [
      "                            OLS Regression Results                            \n",
      "==============================================================================\n",
      "Dep. Variable:                  lwage   R-squared:                       0.371\n",
      "Model:                            OLS   Adj. R-squared:                  0.367\n",
      "Method:                 Least Squares   F-statistic:                     81.95\n",
      "Date:                Sat, 25 Oct 2025   Prob (F-statistic):          2.20e-119\n",
      "Time:                        12:48:06   Log-Likelihood:                -839.97\n",
      "No. Observations:                1260   AIC:                             1700.\n",
      "Df Residuals:                    1250   BIC:                             1751.\n",
      "Df Model:                           9                                         \n",
      "Covariance Type:            nonrobust                                         \n",
      "==============================================================================\n",
      "                 coef    std err          t      P>|t|      [0.025      0.975]\n",
      "------------------------------------------------------------------------------\n",
      "Intercept      0.2489      0.111      2.234      0.026       0.030       0.468\n",
      "looks          0.0535      0.020      2.685      0.007       0.014       0.093\n",
      "female        -0.3893      0.032    -12.330      0.000      -0.451      -0.327\n",
      "married        0.0542      0.031      1.735      0.083      -0.007       0.116\n",
      "goodhlth       0.0756      0.054      1.391      0.164      -0.031       0.182\n",
      "black         -0.0600      0.052     -1.147      0.251      -0.163       0.043\n",
      "union          0.1943      0.030      6.400      0.000       0.135       0.254\n",
      "educ           0.0800      0.006     14.322      0.000       0.069       0.091\n",
      "exper          0.0139      0.001     11.410      0.000       0.011       0.016\n",
      "service       -0.1439      0.033     -4.380      0.000      -0.208      -0.079\n",
      "==============================================================================\n",
      "Omnibus:                       84.390   Durbin-Watson:                   1.856\n",
      "Prob(Omnibus):                  0.000   Jarque-Bera (JB):              224.324\n",
      "Skew:                           0.350   Prob(JB):                     1.94e-49\n",
      "Kurtosis:                       4.945   Cond. No.                         213.\n",
      "==============================================================================\n",
      "\n",
      "Notes:\n",
      "[1] Standard Errors assume that the covariance matrix of the errors is correctly specified.\n",
      "0    0.014406\n",
      "1    0.092584\n",
      "Name: looks, dtype: float64\n"
     ]
    }
   ],
   "source": [
    "formula = \"lwage ~ looks + female + married + goodhlth + black + union + educ + exper + service\"\n",
    "multi_model = smf.ols(formula, data=df).fit()\n",
    "print(multi_model.summary())\n",
    "\n",
    "# to save the coefficients and stats from the multiple regression model for answers\n",
    "b_looks_multi = multi_model.params[\"looks\"]\n",
    "se_looks_multi = multi_model.bse[\"looks\"]\n",
    "t_looks_multi = multi_model.tvalues[\"looks\"]\n",
    "p_looks_multi = multi_model.pvalues[\"looks\"]\n",
    "conf_int_looks_multi = multi_model.conf_int().loc[\"looks\"]  # 95% CI\n",
    "\n",
    "print(conf_int_looks_multi)"
   ]
  },
  {
   "cell_type": "markdown",
   "id": "fe8a6d01",
   "metadata": {},
   "source": [
    "### Question 3.2\n",
    "#### Comparison Between 2 Estimated Coefficients"
   ]
  },
  {
   "cell_type": "code",
   "execution_count": 28,
   "id": "aab2817d",
   "metadata": {},
   "outputs": [
    {
     "name": "stdout",
     "output_type": "stream",
     "text": [
      "The estimated coefficient for looks in the simple regression model is 0.051\n",
      "The estimated coefficient for looks in the multiple regression model is 0.0535\n"
     ]
    }
   ],
   "source": [
    "print(f\"The estimated coefficient for looks in the simple regression model is {round((b_looks_simple), 4)}\")\n",
    "print(f\"The estimated coefficient for looks in the multiple regression model is {round((b_looks_multi), 4)}\")"
   ]
  },
  {
   "cell_type": "markdown",
   "id": "ecea090e",
   "metadata": {},
   "source": [
    "The simple regression model in question 2 estimates how looks abd lwage move together without accounting for the other explanatory variables. On the other hand, the multiple regression model estimates the effect of looks while holding the other variables (female, married, goodhlth, black, union, educ, exper, and service) constant.\n",
    "\n",
    "In the simple regression model the coefficient is 0.051. After adding the other variable that may have an impact on a person's wage and attractiveness, the estimated coefficient on looks becomes 0.0535. \n",
    "\n",
    "This change tells us that the other variables have indeed an impact on a person's wage and if they are omitted, we have a biased coefficient, as we left out relevant variables that are correlated with both physical attractiveness (looks) and the variable of natural log of wage (lwage).\n",
    "\n",
    "We can conclude that the simple regression model is biased downward by 0.0025."
   ]
  },
  {
   "cell_type": "markdown",
   "id": "a4550c52",
   "metadata": {},
   "source": [
    "### Question 3.3\n",
    "#### Does Physical Attractiveness Still Have a Statistically Significant Effect on Wages?"
   ]
  },
  {
   "cell_type": "markdown",
   "id": "34d4b28b",
   "metadata": {},
   "source": [
    "$$\n",
    "H_0: \\beta_1 = 0 \\quad \\text{(physical attractiveness has no effect on wages)}\n",
    "$$\n",
    "$$\n",
    "H_a: \\beta_1 \\neq 0 \\quad \\text{(physical attractiveness affects wages)}\n",
    "$$\n",
    "\n",
    "If p < 0.05 → reject H0 at 5% significance → looks is statistically significant.\n",
    "\n",
    "If p ≥ 0.05 → do not reject H0 → cannot claim looks has a statistically significant effect."
   ]
  },
  {
   "cell_type": "code",
   "execution_count": 29,
   "id": "7f028259",
   "metadata": {},
   "outputs": [
    {
     "name": "stdout",
     "output_type": "stream",
     "text": [
      "P-value of the multiple regression model equals 0.0074, which is smaller than 0.05; therefore, we reject H0: \n"
     ]
    }
   ],
   "source": [
    "alpha = 0.05\n",
    "if p_looks_multi < alpha:\n",
    "    print(f\"P-value of the multiple regression model equals {round(p_looks_multi,4)}, which is smaller than 0.05; therefore, we reject H0: \")\n",
    "else:\n",
    "    print(f\"We cannot reject H0\")"
   ]
  },
  {
   "cell_type": "markdown",
   "id": "051ce371",
   "metadata": {},
   "source": [
    "After controlling for variables such as education, experience, gender, union membership, marital status, health, race, and service industry, the coefficient on looks is 0.0535, with a standard error of 0.020, and p-value of 0.0074.\n",
    "\n",
    "Since 0.0074 < 0.05, at the 5% significance level we reject the null hypothesis.\n",
    "\n",
    "Conclusion: Physical attractiveness appears to have a statistically significant positive effect on the variable natural log of wage (lwage)."
   ]
  },
  {
   "cell_type": "markdown",
   "id": "0a99ac3f",
   "metadata": {},
   "source": [
    "## Question 4: Exploring Non-linear Relationships and Interactions\n",
    "\n",
    "### Question 4.1\n",
    "\n",
    "##### Non-linearity of the experiment"
   ]
  },
  {
   "cell_type": "code",
   "execution_count": 30,
   "id": "943dca5a",
   "metadata": {},
   "outputs": [],
   "source": [
    "df[\"exper2\"] = df[\"exper\"]**2\n",
    "formula2 = \"lwage ~ looks + female + married + goodhlth + black + union + educ + exper + exper2 + service\""
   ]
  },
  {
   "cell_type": "markdown",
   "id": "73d39893",
   "metadata": {},
   "source": [
    "$$\n",
    "lwage=β_0​+β_1​looks+β_2​educ+β_3​exper+β_3​exper^2+β_5​female+β_6​union+β_7​married+β_8​goodhlth+β_9​black+β_{10}​service+ε"
   ]
  },
  {
   "cell_type": "code",
   "execution_count": 31,
   "id": "8dd44279",
   "metadata": {},
   "outputs": [
    {
     "name": "stdout",
     "output_type": "stream",
     "text": [
      "t = 2.843, p = 0.0045\n",
      "The estimated coefficient for looks in the multiple regression model using the experience linearility control is 0.0558\n"
     ]
    }
   ],
   "source": [
    "multi_model2 = smf.ols(formula2, data=df).fit()\n",
    "\n",
    "# to save the coefficients and stats from the multiple regression model for answers\n",
    "b_looks_multi2 = multi_model2.params[\"looks\"]\n",
    "se_looks_multi2 = multi_model2.bse[\"looks\"]\n",
    "t_looks_multi2 = multi_model2.tvalues[\"looks\"]\n",
    "p_looks_multi2 = multi_model2.pvalues[\"looks\"]\n",
    "conf_int_looks_multi2 = multi_model2.conf_int().loc[\"looks\"]  # 95% CI\n",
    "\n",
    "\n",
    "df_resid = multi_model2.df_resid\n",
    "p_value_looks_manual = 2 * (1 - stats.t.cdf(abs(t_looks_multi2), df=df_resid))\n",
    "\n",
    "print(f\"t = {t_looks_multi2:.3f}, p = {p_value_looks_manual:.4f}\")\n",
    "print(f\"The estimated coefficient for looks in the multiple regression model using the experience linearility control is {round((b_looks_multi2), 4)}\")"
   ]
  },
  {
   "cell_type": "markdown",
   "id": "88ab2187",
   "metadata": {},
   "source": [
    "After including the squared term of experience, the estimated coefficient for looks remains positive (β̂ = 0.0558) and statistically significant (t = 2.843, p = 0.0045).\n",
    "This means that, even after accounting for the diminishing effect of experience on wages, physical attractiveness continues to have a positive impact on earnings.\n",
    "On average, a one-unit increase in beauty rating is associated with approximately a 5.6% increase in hourly wages."
   ]
  },
  {
   "cell_type": "markdown",
   "id": "f4b2dd90",
   "metadata": {},
   "source": [
    "### Question 4.2\n",
    "#### Interaction between beauty and gender"
   ]
  },
  {
   "cell_type": "code",
   "execution_count": 32,
   "id": "d12fa8d3",
   "metadata": {},
   "outputs": [],
   "source": [
    "df[\"male\"] = 1- df[\"female\"]\n",
    "df[\"looksMale\"] = df[\"looks\"] * df[\"male\"]\n",
    "\n",
    "formula3 = \"lwage ~ looks + female + looksMale + married + goodhlth + black + union + educ + exper + exper2 + service\""
   ]
  },
  {
   "cell_type": "markdown",
   "id": "9eabb002",
   "metadata": {},
   "source": [
    "$$\n",
    "lwage=β_0​+β_1​looks+β_2​educ+β_3​exper+β_3​exper^2+β_5​female+β_6​union+β_7​married+β_8​goodhlth+β_9​black+β_{10}​service+β_{11}looksMale+ε"
   ]
  },
  {
   "cell_type": "code",
   "execution_count": 33,
   "id": "411ee779",
   "metadata": {},
   "outputs": [
    {
     "name": "stdout",
     "output_type": "stream",
     "text": [
      "The estimated coefficient for looks in the multiple regression model with exper² and interaction is 0.0861\n",
      "t = 2.733, p = 0.0064\n",
      "95% CI: [0.0243, 0.1480]\n",
      "                            OLS Regression Results                            \n",
      "==============================================================================\n",
      "Dep. Variable:                  lwage   R-squared:                       0.391\n",
      "Model:                            OLS   Adj. R-squared:                  0.385\n",
      "Method:                 Least Squares   F-statistic:                     72.71\n",
      "Date:                Sat, 25 Oct 2025   Prob (F-statistic):          6.85e-126\n",
      "Time:                        12:48:06   Log-Likelihood:                -820.16\n",
      "No. Observations:                1260   AIC:                             1664.\n",
      "Df Residuals:                    1248   BIC:                             1726.\n",
      "Df Model:                          11                                         \n",
      "Covariance Type:            nonrobust                                         \n",
      "==============================================================================\n",
      "                 coef    std err          t      P>|t|      [0.025      0.975]\n",
      "------------------------------------------------------------------------------\n",
      "Intercept      0.1873      0.120      1.563      0.118      -0.048       0.422\n",
      "looks          0.0861      0.032      2.733      0.006       0.024       0.148\n",
      "female        -0.5459      0.131     -4.157      0.000      -0.804      -0.288\n",
      "looksMale     -0.0490      0.040     -1.229      0.219      -0.127       0.029\n",
      "married        0.0232      0.031      0.743      0.458      -0.038       0.084\n",
      "goodhlth       0.0692      0.054      1.293      0.196      -0.036       0.174\n",
      "black         -0.0403      0.052     -0.781      0.435      -0.142       0.061\n",
      "union          0.1878      0.030      6.273      0.000       0.129       0.246\n",
      "educ           0.0759      0.006     13.698      0.000       0.065       0.087\n",
      "exper          0.0407      0.004      9.164      0.000       0.032       0.049\n",
      "exper2        -0.0006   9.85e-05     -6.277      0.000      -0.001      -0.000\n",
      "service       -0.1513      0.032     -4.665      0.000      -0.215      -0.088\n",
      "==============================================================================\n",
      "Omnibus:                       87.876   Durbin-Watson:                   1.859\n",
      "Prob(Omnibus):                  0.000   Jarque-Bera (JB):              252.497\n",
      "Skew:                           0.340   Prob(JB):                     1.48e-55\n",
      "Kurtosis:                       5.085   Cond. No.                     8.47e+03\n",
      "==============================================================================\n",
      "\n",
      "Notes:\n",
      "[1] Standard Errors assume that the covariance matrix of the errors is correctly specified.\n",
      "[2] The condition number is large, 8.47e+03. This might indicate that there are\n",
      "strong multicollinearity or other numerical problems.\n"
     ]
    }
   ],
   "source": [
    "model_interaction = smf.ols(formula3, data=df).fit()\n",
    "\n",
    "# Extract coefficient and stats for 'looks'\n",
    "b_looks_interaction = model_interaction.params[\"looks\"]\n",
    "se_looks_interaction = model_interaction.bse[\"looks\"]\n",
    "t_looks_interaction = model_interaction.tvalues[\"looks\"]\n",
    "p_looks_interaction = model_interaction.pvalues[\"looks\"]\n",
    "conf_int_looks_interaction = model_interaction.conf_int().loc[\"looks\"]\n",
    "\n",
    "df_resid = model_interaction.df_resid\n",
    "p_value_looks_interaction = 2 * (1 - stats.t.cdf(abs(t_looks_interaction), df=df_resid))\n",
    "\n",
    "print(f\"The estimated coefficient for looks in the multiple regression model with exper² and interaction is {b_looks_interaction:.4f}\")\n",
    "print(f\"t = {t_looks_interaction:.3f}, p = {p_value_looks_interaction:.4f}\")\n",
    "print(f\"95% CI: [{conf_int_looks_interaction[0]:.4f}, {conf_int_looks_interaction[1]:.4f}]\")\n",
    "\n",
    "print(model_interaction.summary())"
   ]
  },
  {
   "cell_type": "markdown",
   "id": "c89017ff",
   "metadata": {},
   "source": [
    "#### Is there a statistically significant difference of the beauty variable for men compared to women?\n",
    "\n",
    "$$\n",
    "H_0: \\beta_{11} = 0 \\quad \\text{(no difference in the beauty effect between men and women)}\n",
    "$$\n",
    "$$\n",
    "H_a: \\beta_{11} \\neq 0 \\quad \\text{(there is a difference in the beauty effect between men and women)}\n",
    "$$\n",
    "\n",
    "If p < 0.05 → reject H0 at 5% significance → the beauty premium differs significantly between men and women.\n",
    "\n",
    "If p ≥ 0.05 → do not reject H0 → the effect of beauty on wages is not significantly different between men and women.\n",
    "\n",
    "p = 0.219 for looksMale, wich is greater than 0.05; therefore, we cannot reject the null hypothesis. As p is greater than 0.05, we can conclude that there is no statistically significant difference in the beauty effect between men and women.\n",
    "\n",
    "However, the estimated coefficient for looks is 0.0861 and p-value is 0.0064, which indicates that attractiveness has a positive and statistically significant effect on Lwage for women. On the other hand, as discussed above, the coefficient of the interaction term looksMale is -0.049 with p-value = 0.219, which means that the difference between men and women in the beauty effect is not statistically significant at the 5% level.\n",
    "\n",
    "Therefore, while beauty significantly increases wages for women, we cannot conclude that this effect is different for men, in a significant manner."
   ]
  },
  {
   "cell_type": "markdown",
   "id": "7eb84781",
   "metadata": {},
   "source": [
    "## Question 5: Discussion on the Limitations of the Analysis\n",
    "### Question 5.1\n",
    "#### Test for the homoskedasticity assumption"
   ]
  },
  {
   "cell_type": "code",
   "execution_count": 41,
   "id": "da1e3c99",
   "metadata": {},
   "outputs": [
    {
     "data": {
      "image/png": "[encoded data removed]",
      "text/plain": [
       "<Figure size 640x480 with 1 Axes>"
      ]
     },
     "metadata": {},
     "output_type": "display_data"
    },
    {
     "name": "stdout",
     "output_type": "stream",
     "text": [
      "                            OLS Regression Results                            \n",
      "==============================================================================\n",
      "Dep. Variable:                  lwage   R-squared:                       0.391\n",
      "Model:                            OLS   Adj. R-squared:                  0.385\n",
      "Method:                 Least Squares   F-statistic:                     85.77\n",
      "Date:                Sat, 25 Oct 2025   Prob (F-statistic):          4.41e-144\n",
      "Time:                        13:16:53   Log-Likelihood:                -820.16\n",
      "No. Observations:                1260   AIC:                             1664.\n",
      "Df Residuals:                    1248   BIC:                             1726.\n",
      "Df Model:                          11                                         \n",
      "Covariance Type:                  HC0                                         \n",
      "==============================================================================\n",
      "                 coef    std err          z      P>|z|      [0.025      0.975]\n",
      "------------------------------------------------------------------------------\n",
      "Intercept      0.1873      0.130      1.436      0.151      -0.068       0.443\n",
      "looks          0.0861      0.031      2.755      0.006       0.025       0.147\n",
      "female        -0.5459      0.130     -4.199      0.000      -0.801      -0.291\n",
      "looksMale     -0.0490      0.040     -1.229      0.219      -0.127       0.029\n",
      "married        0.0232      0.031      0.749      0.454      -0.038       0.084\n",
      "goodhlth       0.0692      0.062      1.108      0.268      -0.053       0.192\n",
      "black         -0.0403      0.061     -0.657      0.511      -0.161       0.080\n",
      "union          0.1878      0.028      6.688      0.000       0.133       0.243\n",
      "educ           0.0759      0.006     13.441      0.000       0.065       0.087\n",
      "exper          0.0407      0.004      9.687      0.000       0.032       0.049\n",
      "exper2        -0.0006   9.31e-05     -6.637      0.000      -0.001      -0.000\n",
      "service       -0.1513      0.034     -4.416      0.000      -0.219      -0.084\n",
      "==============================================================================\n",
      "Omnibus:                       87.876   Durbin-Watson:                   1.859\n",
      "Prob(Omnibus):                  0.000   Jarque-Bera (JB):              252.497\n",
      "Skew:                           0.340   Prob(JB):                     1.48e-55\n",
      "Kurtosis:                       5.085   Cond. No.                     8.47e+03\n",
      "==============================================================================\n",
      "\n",
      "Notes:\n",
      "[1] Standard Errors are heteroscedasticity robust (HC0)\n",
      "[2] The condition number is large, 8.47e+03. This might indicate that there are\n",
      "strong multicollinearity or other numerical problems.\n"
     ]
    }
   ],
   "source": [
    "plt.scatter(model_interaction.fittedvalues, model_interaction.resid, alpha=0.6)\n",
    "plt.axhline(0, color=\"red\", lw=1)\n",
    "plt.xlabel(\"Fitted values (lwage)\")\n",
    "plt.ylabel(\"Residuals\")\n",
    "plt.title(\"Homoskedastic Assumption\")\n",
    "plt.show()\n",
    "\n",
    "# Estimation the final multiple linear regression with heteroskedastic-robust covariance \n",
    "model_interaction_HC0 = smf.ols(model_interaction.model.formula, data=df).fit(cov_type=\"HC0\")\n",
    "\n",
    "print(model_interaction_HC0.summary())"
   ]
  },
  {
   "cell_type": "markdown",
   "id": "3d879843",
   "metadata": {},
   "source": [
    "Do we reject homoskedasticity? \n",
    "\n",
    "No. The residuals–vs–fitted cloud shows a roughly constant vertical spread across fitted: $$\\widehat{y}$$\n",
    "\n",
    "On visual grounds, we do not reject homoskedasticity $$\\big(\\mathrm{Var}(\\varepsilon_i \\mid X) \\approx \\sigma^2\\big)$$\n",
    "\n",
    "\n",
    "HC0 re-estimate — does it change coefficients?\n",
    "From our Question 4.2 OLS Regression Results\n",
    "the estimated coefficient for looks is 0.0861 and p-value is 0.0064\n",
    "the coefficient of the interaction term looksMale is -0.049 with p-value = 0.219\n",
    "\n",
    "From our Question 5.1 OLS Regression Results, both terms' coeffiecients are exactly the same. For the rest of coefficients, the output is also unchanged.\n",
    "\n",
    "On the other hand, standard errors (SEs) and p-values slightly change. The HC0 re-estimate slightly increased the p-values, but the main conclusions remain unchanged.\n",
    "  - looks remains significant at 5% under HC0 (p-value stays < 0.05).  \n",
    "  - looksMale remains not significant (p-value stays > 0.05).  \n",
    "\n",
    "So, based on the plot we do not reject homoskedasticity, and the HC0 check confirms that inference for looks and looksMale does not change.\n"
   ]
  },
  {
   "cell_type": "markdown",
   "id": "73b18e81",
   "metadata": {},
   "source": [
    "### Question 5.2\n",
    "\n",
    "Even after controlling for education, experience, gender, union status, health, and other observable factors, there may still be unobserved variables correlated with both attractiveness and wages.  \n",
    "\n",
    "A plausible omitted factor is the industry in which the individual opperates. Certain jobs (for example, sales, public relations, or entertainment) reward physical appearance more than others (like manufacturing or IT). In these industries, employees are often selected or promoted partly based on their appearance, as it can influence customer relations or company image. \n",
    "\n",
    "In such industries, employees are hired on an additional factor: physical appearance. This means that from the start, the population we are testing is biased. If more attractive individuals are disproportionately represented in such industries, part of the observed \"beauty premium\" actually reflects industry effects, which is a variable we did not test for in our models.\n",
    "\n",
    "This violates the exogeneity assumption of the classical linear regression model, leading to the omitted variable bias:\n",
    "\n",
    "$$\n",
    "E[\\varepsilon_i \\mid X] = 0\n",
    "$$\n",
    "\n",
    "When this assumption is violated, the error term is correlated with the explanatory variable looks, which makes the estimated coefficient for attractiveness biased and inconsistent."
   ]
  }
 ],
 "metadata": {
  "kernelspec": {
   "display_name": "Python 3",
   "language": "python",
   "name": "python3"
  },
  "language_info": {
   "codemirror_mode": {
    "name": "ipython",
    "version": 3
   },
   "file_extension": ".py",
   "mimetype": "text/x-python",
   "name": "python",
   "nbconvert_exporter": "python",
   "pygments_lexer": "ipython3",
   "version": "3.13.7"
  }
 },
 "nbformat": 4,
 "nbformat_minor": 5
}
