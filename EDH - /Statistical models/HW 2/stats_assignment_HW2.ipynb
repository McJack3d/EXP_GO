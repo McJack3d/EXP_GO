{
 "cells": [
  {
   "cell_type": "code",
   "execution_count": 1,
   "id": "76eb0e5a-fe91-4c13-9001-0a4d172de507",
   "metadata": {},
   "outputs": [
    {
     "data": {
      "text/html": [
       "<div>\n",
       "<style scoped>\n",
       "    .dataframe tbody tr th:only-of-type {\n",
       "        vertical-align: middle;\n",
       "    }\n",
       "\n",
       "    .dataframe tbody tr th {\n",
       "        vertical-align: top;\n",
       "    }\n",
       "\n",
       "    .dataframe thead th {\n",
       "        text-align: right;\n",
       "    }\n",
       "</style>\n",
       "<table border=\"1\" class=\"dataframe\">\n",
       "  <thead>\n",
       "    <tr style=\"text-align: right;\">\n",
       "      <th></th>\n",
       "      <th>wage</th>\n",
       "      <th>lwage</th>\n",
       "      <th>exper</th>\n",
       "      <th>looks</th>\n",
       "      <th>union</th>\n",
       "      <th>goodhlth</th>\n",
       "      <th>black</th>\n",
       "      <th>female</th>\n",
       "      <th>married</th>\n",
       "      <th>south</th>\n",
       "      <th>bigcity</th>\n",
       "      <th>smllcity</th>\n",
       "      <th>service</th>\n",
       "      <th>educ</th>\n",
       "    </tr>\n",
       "  </thead>\n",
       "  <tbody>\n",
       "    <tr>\n",
       "      <th>0</th>\n",
       "      <td>5.73</td>\n",
       "      <td>1.745715</td>\n",
       "      <td>30</td>\n",
       "      <td>4</td>\n",
       "      <td>0</td>\n",
       "      <td>1</td>\n",
       "      <td>0</td>\n",
       "      <td>1</td>\n",
       "      <td>1</td>\n",
       "      <td>0</td>\n",
       "      <td>0</td>\n",
       "      <td>1</td>\n",
       "      <td>1</td>\n",
       "      <td>14</td>\n",
       "    </tr>\n",
       "    <tr>\n",
       "      <th>1</th>\n",
       "      <td>4.28</td>\n",
       "      <td>1.453953</td>\n",
       "      <td>28</td>\n",
       "      <td>3</td>\n",
       "      <td>0</td>\n",
       "      <td>1</td>\n",
       "      <td>0</td>\n",
       "      <td>1</td>\n",
       "      <td>1</td>\n",
       "      <td>1</td>\n",
       "      <td>0</td>\n",
       "      <td>1</td>\n",
       "      <td>0</td>\n",
       "      <td>12</td>\n",
       "    </tr>\n",
       "    <tr>\n",
       "      <th>2</th>\n",
       "      <td>7.96</td>\n",
       "      <td>2.074429</td>\n",
       "      <td>35</td>\n",
       "      <td>4</td>\n",
       "      <td>0</td>\n",
       "      <td>1</td>\n",
       "      <td>0</td>\n",
       "      <td>1</td>\n",
       "      <td>0</td>\n",
       "      <td>0</td>\n",
       "      <td>0</td>\n",
       "      <td>1</td>\n",
       "      <td>0</td>\n",
       "      <td>10</td>\n",
       "    </tr>\n",
       "    <tr>\n",
       "      <th>3</th>\n",
       "      <td>11.57</td>\n",
       "      <td>2.448416</td>\n",
       "      <td>38</td>\n",
       "      <td>3</td>\n",
       "      <td>0</td>\n",
       "      <td>1</td>\n",
       "      <td>0</td>\n",
       "      <td>0</td>\n",
       "      <td>1</td>\n",
       "      <td>0</td>\n",
       "      <td>1</td>\n",
       "      <td>0</td>\n",
       "      <td>1</td>\n",
       "      <td>16</td>\n",
       "    </tr>\n",
       "    <tr>\n",
       "      <th>4</th>\n",
       "      <td>11.42</td>\n",
       "      <td>2.435366</td>\n",
       "      <td>27</td>\n",
       "      <td>3</td>\n",
       "      <td>0</td>\n",
       "      <td>1</td>\n",
       "      <td>0</td>\n",
       "      <td>0</td>\n",
       "      <td>1</td>\n",
       "      <td>0</td>\n",
       "      <td>0</td>\n",
       "      <td>1</td>\n",
       "      <td>0</td>\n",
       "      <td>16</td>\n",
       "    </tr>\n",
       "  </tbody>\n",
       "</table>\n",
       "</div>"
      ],
      "text/plain": [
       "    wage     lwage  exper  looks  union  goodhlth  black  female  married  \\\n",
       "0   5.73  1.745715     30      4      0         1      0       1        1   \n",
       "1   4.28  1.453953     28      3      0         1      0       1        1   \n",
       "2   7.96  2.074429     35      4      0         1      0       1        0   \n",
       "3  11.57  2.448416     38      3      0         1      0       0        1   \n",
       "4  11.42  2.435366     27      3      0         1      0       0        1   \n",
       "\n",
       "   south  bigcity  smllcity  service  educ  \n",
       "0      0        0         1        1    14  \n",
       "1      1        0         1        0    12  \n",
       "2      0        0         1        0    10  \n",
       "3      0        1         0        1    16  \n",
       "4      0        0         1        0    16  "
      ]
     },
     "execution_count": 1,
     "metadata": {},
     "output_type": "execute_result"
    }
   ],
   "source": [
    "import pandas as pd\n",
    "import numpy as np\n",
    "import matplotlib.pyplot as plt\n",
    "import statsmodels.formula.api as smf\n",
    "from scipy import stats\n",
    "from scipy.stats import skew, kurtosis\n",
    "\n",
    "df = pd.read_excel(\"beauty.xlsx\")\n",
    "df.head()"
   ]
  },
  {
   "cell_type": "code",
   "execution_count": 28,
   "id": "c791c537-4891-41b5-91d9-383f0c29c307",
   "metadata": {},
   "outputs": [
    {
     "name": "stdout",
     "output_type": "stream",
     "text": [
      "Descriptive Statistics:\n",
      "              wage        lwage         educ        exper        looks\n",
      "count  1260.000000  1260.000000  1260.000000  1260.000000  1260.000000\n",
      "mean      6.306690     1.658800    12.563492    18.206349     3.185714\n",
      "std       4.660639     0.594508     2.624489    11.963485     0.684877\n",
      "min       1.020000     0.019803     5.000000     0.000000     1.000000\n",
      "25%       3.707500     1.310357    12.000000     8.000000     3.000000\n",
      "50%       5.300000     1.667705    12.000000    15.000000     3.000000\n",
      "75%       7.695000     2.040570    13.000000    27.000000     4.000000\n",
      "max      77.720000     4.353113    17.000000    48.000000     5.000000\n",
      "wage= Skewness: 4.8192044939496546, Kurtosis: 51.22120116313635\n",
      "lwage= Skewness: 0.08333412347927915, Kurtosis: 0.4314718014935921\n"
     ]
    }
   ],
   "source": [
    "#Ques1: Data Exploration\n",
    "vars = [\"wage\", \"lwage\", \"educ\", \"exper\", \"looks\"]\n",
    "df[vars].describe()\n",
    "print(\"Descriptive Statistics:\")\n",
    "print(df[vars].describe())\n",
    "for col in [\"wage\", \"lwage\"]:\n",
    "    print(f\"{col}= Skewness: {df[col].skew()}, Kurtosis: {df[col].kurt()}\")"
   ]
  },
  {
   "cell_type": "code",
   "execution_count": 29,
   "id": "0df6fc6d-8d43-4cfe-84b9-accb5434f63d",
   "metadata": {},
   "outputs": [
    {
     "data": {
      "image/png": "[encoded data removed]",
      "text/plain": [
       "<Figure size 1000x500 with 2 Axes>"
      ]
     },
     "metadata": {},
     "output_type": "display_data"
    }
   ],
   "source": [
    "#Histogram\n",
    "plt.figure(figsize=(10,5))\n",
    "\n",
    "plt.subplot(1, 2, 1)\n",
    "plt.hist(df[\"wage\"].dropna(), bins=20, color='orange')\n",
    "plt.title(\"Histogram of Wage\")\n",
    "plt.xlabel(\"Wage\")\n",
    "plt.ylabel(\"Frequency\")\n",
    "\n",
    "plt.subplot(1, 2, 2)\n",
    "plt.hist(df[\"lwage\"].dropna(), bins=20, color='skyblue')\n",
    "plt.title(\"Histogram of Lwage\")\n",
    "plt.xlabel(\"Log Wage\")\n",
    "plt.ylabel(\"Frequency\")\n",
    "\n",
    "plt.show()"
   ]
  },
  {
   "cell_type": "markdown",
   "id": "7d9591b6",
   "metadata": {},
   "source": [
    "## Answer Question 1.2\n",
    "\n",
    "Discuss the empirical skewness and the empirical kurtosis of each series. Explain why one of these two variables is more suitable as a dependent variable for a linear regression model."
   ]
  },
  {
   "cell_type": "code",
   "execution_count": 30,
   "id": "8a11947a-5c51-4f94-bed7-498d547e75e9",
   "metadata": {},
   "outputs": [
    {
     "name": "stdout",
     "output_type": "stream",
     "text": [
      "                            OLS Regression Results                            \n",
      "==============================================================================\n",
      "Dep. Variable:                  lwage   R-squared:                       0.003\n",
      "Model:                            OLS   Adj. R-squared:                  0.003\n",
      "Method:                 Least Squares   F-statistic:                     4.349\n",
      "Date:                Mon, 20 Oct 2025   Prob (F-statistic):             0.0372\n",
      "Time:                        21:41:15   Log-Likelihood:                -1130.0\n",
      "No. Observations:                1260   AIC:                             2264.\n",
      "Df Residuals:                    1258   BIC:                             2274.\n",
      "Df Model:                           1                                         \n",
      "Covariance Type:            nonrobust                                         \n",
      "==============================================================================\n",
      "                 coef    std err          t      P>|t|      [0.025      0.975]\n",
      "------------------------------------------------------------------------------\n",
      "Intercept      1.4965      0.080     18.798      0.000       1.340       1.653\n",
      "looks          0.0510      0.024      2.085      0.037       0.003       0.099\n",
      "==============================================================================\n",
      "Omnibus:                        8.047   Durbin-Watson:                   1.468\n",
      "Prob(Omnibus):                  0.018   Jarque-Bera (JB):                9.940\n",
      "Skew:                           0.083   Prob(JB):                      0.00694\n",
      "Kurtosis:                       3.402   Cond. No.                         16.9\n",
      "==============================================================================\n",
      "\n",
      "Notes:\n",
      "[1] Standard Errors assume that the covariance matrix of the errors is correctly specified.\n"
     ]
    }
   ],
   "source": [
    "#Ques2: Simple Linear Regression\n",
    "\n",
    "simple_model = smf.ols(\"lwage ~ looks\", data=df).fit()\n",
    "print(simple_model.summary())\n",
    "\n",
    "b_looks_simple = simple_model.params[\"looks\"]\n",
    "sterr_looks_simple = simple_model.bse[\"looks\"]\n",
    "t_looks_simple = simple_model.tvalues[\"looks\"]\n",
    "p_looks_simple = simple_model.pvalues[\"looks\"]"
   ]
  },
  {
   "cell_type": "markdown",
   "id": "07acedd1",
   "metadata": {},
   "source": [
    "### Answer Question 2.1\n",
    "\n",
    "The estimated coefficients are: \n",
    "$$\n",
    "\\hat{\\beta}_1 = 0.0510 \\quad \\hat{\\beta}_0 = 1.4965\n",
    "$$\n",
    "\n",
    "The standard error SE is:\n",
    "$$\n",
    "\\text{SE}(\\hat{\\beta}_1) = 0.024\n",
    "$$\n",
    "\n",
    "The coefficient of determination is: R-squared = 0.003"
   ]
  },
  {
   "cell_type": "markdown",
   "id": "136a4abd-dc58-4415-8875-580b8e81e3ec",
   "metadata": {},
   "source": [
    "### Answer Question 2.2\n",
    "It implies that, on average, a one-unit increase in attractiveness is associated with about a 5.1% higher wage, suggesting a small but statistically significant positive relationship between attractiveness and wages."
   ]
  },
  {
   "cell_type": "markdown",
   "id": "7512b3db-29f5-47ec-bed1-2e3fe0217b77",
   "metadata": {},
   "source": [
    "### Answer Question 2.3\n",
    "#### Hypothesis Test for the Effect of Physical Attractiveness on Wages\n",
    "\n",
    "\n",
    "#### Step 1: State the Hypotheses\n",
    "\n",
    "$$\n",
    "H_0: \\beta_1 = 0 \\quad \\text{(physical attractiveness has no effect on wages)}\n",
    "$$\n",
    "$$\n",
    "H_a: \\beta_1 \\neq 0 \\quad \\text{(physical attractiveness affects wages)}\n",
    "$$\n",
    "\n",
    "#### Step 2: Test Statistic\n",
    "\n",
    "From the regression output:\n",
    "\n",
    "$$\n",
    "\\hat{\\beta}_1 = 0.0510, \\quad \\text{SE}(\\hat{\\beta}_1) = 0.024, \\quad t = 2.085, \\quad p = 0.037\n",
    "$$\n",
    "\n",
    "#### Step 3: Decision Rule\n",
    "\n",
    "At a significance level of $ \\alpha = 0.05 $:\n",
    "\n",
    "$$\n",
    "p = 0.037 < 0.05 \\implies \\text{Reject } H_0\n",
    "$$\n",
    "\n",
    "#### Step 4: Conclusion\n",
    "\n",
    "There is statistically significant evidence at the 5% level that physical attractiveness ${looks}$ has an effect on wages.\n",
    "\n",
    "$$\n",
    "\\boxed{p = 0.037 < 0.05 \\Rightarrow \\text{Reject } H_0. \\text{ Physical attractiveness significantly affects wages.}}\n",
    "$$"
   ]
  },
  {
   "cell_type": "markdown",
   "id": "cbdb45b6",
   "metadata": {},
   "source": [
    "## 3. Multiple Linear Regression"
   ]
  },
  {
   "cell_type": "markdown",
   "id": "21d313a1",
   "metadata": {},
   "source": [
    "#### 3.1 Regression Results for Multiple Linear Regression Model \n",
    "\n",
    "$$\n",
    "lwage=β_0​+β_1​looks+β_2​educ+β_3​exper+β_4​female+β_5​union+β_6​married+β_7​goodhlth+β_8​black+β_9​service+ε"
   ]
  },
  {
   "cell_type": "code",
   "execution_count": 31,
   "id": "8ff841b3",
   "metadata": {},
   "outputs": [
    {
     "name": "stdout",
     "output_type": "stream",
     "text": [
      "                            OLS Regression Results                            \n",
      "==============================================================================\n",
      "Dep. Variable:                  lwage   R-squared:                       0.371\n",
      "Model:                            OLS   Adj. R-squared:                  0.367\n",
      "Method:                 Least Squares   F-statistic:                     81.95\n",
      "Date:                Mon, 20 Oct 2025   Prob (F-statistic):          2.20e-119\n",
      "Time:                        21:41:15   Log-Likelihood:                -839.97\n",
      "No. Observations:                1260   AIC:                             1700.\n",
      "Df Residuals:                    1250   BIC:                             1751.\n",
      "Df Model:                           9                                         \n",
      "Covariance Type:            nonrobust                                         \n",
      "==============================================================================\n",
      "                 coef    std err          t      P>|t|      [0.025      0.975]\n",
      "------------------------------------------------------------------------------\n",
      "Intercept      0.2489      0.111      2.234      0.026       0.030       0.468\n",
      "looks          0.0535      0.020      2.685      0.007       0.014       0.093\n",
      "female        -0.3893      0.032    -12.330      0.000      -0.451      -0.327\n",
      "married        0.0542      0.031      1.735      0.083      -0.007       0.116\n",
      "goodhlth       0.0756      0.054      1.391      0.164      -0.031       0.182\n",
      "black         -0.0600      0.052     -1.147      0.251      -0.163       0.043\n",
      "union          0.1943      0.030      6.400      0.000       0.135       0.254\n",
      "educ           0.0800      0.006     14.322      0.000       0.069       0.091\n",
      "exper          0.0139      0.001     11.410      0.000       0.011       0.016\n",
      "service       -0.1439      0.033     -4.380      0.000      -0.208      -0.079\n",
      "==============================================================================\n",
      "Omnibus:                       84.390   Durbin-Watson:                   1.856\n",
      "Prob(Omnibus):                  0.000   Jarque-Bera (JB):              224.324\n",
      "Skew:                           0.350   Prob(JB):                     1.94e-49\n",
      "Kurtosis:                       4.945   Cond. No.                         213.\n",
      "==============================================================================\n",
      "\n",
      "Notes:\n",
      "[1] Standard Errors assume that the covariance matrix of the errors is correctly specified.\n",
      "0    0.014406\n",
      "1    0.092584\n",
      "Name: looks, dtype: float64\n"
     ]
    }
   ],
   "source": [
    "formula = \"lwage ~ looks + female + married + goodhlth + black + union + educ + exper + service\"\n",
    "multi_model = smf.ols(formula, data=df).fit()\n",
    "print(multi_model.summary())\n",
    "\n",
    "# to save the coefficients and stats from the multiple regression model for answers\n",
    "b_looks_multi = multi_model.params[\"looks\"]\n",
    "se_looks_multi = multi_model.bse[\"looks\"]\n",
    "t_looks_multi = multi_model.tvalues[\"looks\"]\n",
    "p_looks_multi = multi_model.pvalues[\"looks\"]\n",
    "conf_int_looks_multi = multi_model.conf_int().loc[\"looks\"]  # 95% CI\n",
    "\n",
    "print(conf_int_looks_multi)"
   ]
  },
  {
   "cell_type": "markdown",
   "id": "fe8a6d01",
   "metadata": {},
   "source": [
    "#### 3.2 Comparison Between 2 Estimated Coefficients"
   ]
  },
  {
   "cell_type": "code",
   "execution_count": 32,
   "id": "aab2817d",
   "metadata": {},
   "outputs": [
    {
     "name": "stdout",
     "output_type": "stream",
     "text": [
      "The estimated coefficient for looks in the simple regression model is 0.051\n",
      "The estimated coefficient for looks in the multiple regression model is 0.0535\n"
     ]
    }
   ],
   "source": [
    "print(f\"The estimated coefficient for looks in the simple regression model is {round((b_looks_simple), 4)}\")\n",
    "print(f\"The estimated coefficient for looks in the multiple regression model is {round((b_looks_multi), 4)}\")"
   ]
  },
  {
   "cell_type": "markdown",
   "id": "ecea090e",
   "metadata": {},
   "source": [
    "The simple regression model in question 2 estimates how looks abd lwage move together without accounting for the other explanatory variables. On the other hand, the multiple regression model estimates the effect of looks while holding the other variables (female, married, goodhlth, black, union, educ, exper, and service) constant.\n",
    "\n",
    "In the simple regression model the coefficient is 0.051. After adding the other variable that may have an impact on a person's wage and attractiveness, the estimated coefficient on looks becomes 0.0535. \n",
    "\n",
    "This change tells us that the other variables have indeed an impact on a person's wage and if they are omitted, we have a biased coefficient, as we left out relevant variables that are correlated with both physical attractiveness (looks) and the variable of natural log of wage (lwage).\n",
    "\n",
    "We can conclude that the simple regression model is biased downward by 0.0025."
   ]
  },
  {
   "cell_type": "markdown",
   "id": "a4550c52",
   "metadata": {},
   "source": [
    "#### 3.3 Does Physical Attractiveness Still Have a Statistically Significant Effect on Wages?"
   ]
  },
  {
   "cell_type": "markdown",
   "id": "34d4b28b",
   "metadata": {},
   "source": [
    "$$\n",
    "H_0: \\beta_1 = 0 \\quad \\text{(physical attractiveness has no effect on wages)}\n",
    "$$\n",
    "$$\n",
    "H_a: \\beta_1 \\neq 0 \\quad \\text{(physical attractiveness affects wages)}\n",
    "$$\n",
    "\n",
    "If p < 0.05 → reject H0 at 5% significance → looks is statistically significant.\n",
    "\n",
    "If p ≥ 0.05 → do not reject H0 → cannot claim looks has a statistically significant effect."
   ]
  },
  {
   "cell_type": "code",
   "execution_count": 33,
   "id": "7f028259",
   "metadata": {},
   "outputs": [
    {
     "name": "stdout",
     "output_type": "stream",
     "text": [
      "P-value of the multiple regression model equals 0.0074, which is smaller than 0.05; therefore, we reject H0: \n"
     ]
    }
   ],
   "source": [
    "alpha = 0.05\n",
    "if p_looks_multi < alpha:\n",
    "    print(f\"P-value of the multiple regression model equals {round(p_looks_multi,4)}, which is smaller than 0.05; therefore, we reject H0: \")\n",
    "else:\n",
    "    print(f\"We cannot reject H0\")"
   ]
  },
  {
   "cell_type": "markdown",
   "id": "051ce371",
   "metadata": {},
   "source": [
    "After controlling for variables such as education, experience, gender, union membership, marital status, health, race, and service industry, the coefficient on looks is 0.0535, with a standard error of 0.020, and p-value of 0.0074.\n",
    "\n",
    "Since 0.0074 < 0.05, at the 5% significance level we reject the null hypothesis.\n",
    "\n",
    "Conclusion: Physical attractiveness appears to have a statistically significant positive effect on the variable natural log of wage (lwage)."
   ]
  },
  {
   "cell_type": "markdown",
   "id": "0a99ac3f",
   "metadata": {},
   "source": [
    "## 4. Exploring Non-linear Relationships and Interactions"
   ]
  },
  {
   "cell_type": "markdown",
   "id": "5640a09a",
   "metadata": {},
   "source": [
    "#### 4.1 Non-linearity of the experiment\n"
   ]
  },
  {
   "cell_type": "code",
   "execution_count": 14,
   "id": "943dca5a",
   "metadata": {},
   "outputs": [],
   "source": [
    "df[\"exper2\"] = df[\"exper\"]**2\n",
    "formula2 = \"lwage ~ looks + female + married + goodhlth + black + union + educ + exper + exper2 + service \""
   ]
  },
  {
   "cell_type": "markdown",
   "id": "73d39893",
   "metadata": {},
   "source": [
    "$$\n",
    "lwage=β_0​+β_1​looks+β_2​educ+β_3​exper+β_3​exper^2+β_5​female+β_6​union+β_7​married+β_8​goodhlth+β_9​black+β_10​service+ε"
   ]
  },
  {
   "cell_type": "code",
   "execution_count": 15,
   "id": "8dd44279",
   "metadata": {},
   "outputs": [
    {
     "name": "stdout",
     "output_type": "stream",
     "text": [
      "t = 2.843, p = 0.0045\n",
      "The estimated coefficient for looks in the multiple regression model using the experience linearility control is 0.0558\n"
     ]
    }
   ],
   "source": [
    "multi_model2 = smf.ols(formula2, data=df).fit()\n",
    "\n",
    "# to save the coefficients and stats from the multiple regression model for answers\n",
    "b_looks_multi2 = multi_model2.params[\"looks\"]\n",
    "se_looks_multi2 = multi_model2.bse[\"looks\"]\n",
    "t_looks_multi2 = multi_model2.tvalues[\"looks\"]\n",
    "p_looks_multi2 = multi_model2.pvalues[\"looks\"]\n",
    "conf_int_looks_multi2 = multi_model2.conf_int().loc[\"looks\"]  # 95% CI\n",
    "\n",
    "\n",
    "df_resid = multi_model2.df_resid\n",
    "p_value_looks_manual = 2 * (1 - stats.t.cdf(abs(t_looks_multi2), df=df_resid))\n",
    "\n",
    "print(f\"t = {t_looks_multi2:.3f}, p = {p_value_looks_manual:.4f}\")\n",
    "print(f\"The estimated coefficient for looks in the multiple regression model using the experience linearility control is {round((b_looks_multi2), 4)}\")"
   ]
  },
  {
   "cell_type": "markdown",
   "id": "88ab2187",
   "metadata": {},
   "source": [
    "After including the squared term of experience, the estimated coefficient for looks remains positive (β̂ = 0.0558) and statistically significant (t = 2.843, p = 0.0045).\n",
    "This means that, even after accounting for the diminishing effect of experience on wages, physical attractiveness continues to have a positive impact on earnings.\n",
    "On average, a one-unit increase in beauty rating is associated with approximately a 5.6% increase in hourly wages."
   ]
  },
  {
   "cell_type": "markdown",
   "id": "f4b2dd90",
   "metadata": {},
   "source": [
    "#### 4.2 Interaction between beauty and genre"
   ]
  },
  {
   "cell_type": "code",
   "execution_count": 11,
   "id": "d12fa8d3",
   "metadata": {},
   "outputs": [],
   "source": [
    "df[\"looks_female\"] = df[\"looks\"] * df[\"female\"]\n",
    "\n",
    "formula3 = \"lwage ~ looks + female + looks_female + married + goodhlth + black + union + educ + exper + exper2 + service \""
   ]
  },
  {
   "cell_type": "markdown",
   "id": "9eabb002",
   "metadata": {},
   "source": [
    "$$\n",
    "lwage=β_0​+β_1​looks+β_2​educ+β_3​exper+β_3​exper^2+β_5​female+β_6​union+β_7​married+β_8​goodhlth+β_9​black+β_10​service+β_11looks_female+ε"
   ]
  },
  {
   "cell_type": "code",
   "execution_count": 12,
   "id": "411ee779",
   "metadata": {},
   "outputs": [
    {
     "name": "stdout",
     "output_type": "stream",
     "text": [
      "The estimated coefficient for looks in the multiple regression model with exper² and interaction is 0.0371\n",
      "t = 1.495, p = 0.1351\n",
      "95% CI: [-0.0116, 0.0859]\n"
     ]
    }
   ],
   "source": [
    "multi_model3 = smf.ols(formula3, data=df).fit()\n",
    "\n",
    "# Extract coefficient and stats for 'looks'\n",
    "b_looks_multi3 = multi_model3.params[\"looks\"]\n",
    "se_looks_multi3 = multi_model3.bse[\"looks\"]\n",
    "t_looks_multi3 = multi_model3.tvalues[\"looks\"]\n",
    "p_looks_multi3 = multi_model3.pvalues[\"looks\"]\n",
    "conf_int_looks_multi3 = multi_model3.conf_int().loc[\"looks\"]\n",
    "\n",
    "from scipy import stats\n",
    "df_resid = multi_model3.df_resid\n",
    "p_value_looks_manual = 2 * (1 - stats.t.cdf(abs(t_looks_multi3), df=df_resid))\n",
    "\n",
    "print(f\"The estimated coefficient for looks in the multiple regression model with exper² and interaction is {b_looks_multi3:.4f}\")\n",
    "print(f\"t = {t_looks_multi3:.3f}, p = {p_value_looks_manual:.4f}\")\n",
    "print(f\"95% CI: [{conf_int_looks_multi3[0]:.4f}, {conf_int_looks_multi3[1]:.4f}]\")"
   ]
  },
  {
   "cell_type": "markdown",
   "id": "f0e0d009",
   "metadata": {},
   "source": [
    "The interaction term looks_female captures whether the effect of physical attractiveness on wages differs for women compared to men.\n",
    "A significant and negative coefficient would indicate that the beauty premium is smaller for women than for men, while a positive coefficient would imply the opposite.\n",
    "\n",
    "In this model, the estimated coefficient on looks_female is β̂ = 0.0371, with t = 1.495 and p = 0.1351.\n",
    "This means that, after controlling for experience non-linearity and other covariates, there is no clear difference in the effect of attractiveness on wages between genders.\n",
    "\n",
    "In other words, the “beauty premium” appears to be similar for men and women in this dataset."
   ]
  }
 ],
 "metadata": {
  "kernelspec": {
   "display_name": "Python 3",
   "language": "python",
   "name": "python3"
  },
  "language_info": {
   "codemirror_mode": {
    "name": "ipython",
    "version": 3
   },
   "file_extension": ".py",
   "mimetype": "text/x-python",
   "name": "python",
   "nbconvert_exporter": "python",
   "pygments_lexer": "ipython3",
   "version": "3.11.8"
  }
 },
 "nbformat": 4,
 "nbformat_minor": 5
}
